{
 "cells": [
  {
   "cell_type": "code",
   "execution_count": 1,
   "metadata": {},
   "outputs": [],
   "source": [
    "# 1) Импорты и настройки\n",
    "import os, sys, math\n",
    "sys.path.append(os.path.abspath('..'))\n",
    "\n",
    "import numpy as np\n",
    "import pandas as pd\n",
    "import matplotlib.pyplot as plt\n",
    "from tqdm.auto import tqdm\n",
    "import shutil\n",
    "\n",
    "from src.simulation import simulate_sample\n",
    "from src.graph_builders import build_knn_graph, build_distance_graph\n",
    "from src.features import compute_feature\n",
    "from src.utils import single_run, run_experiment\n",
    "\n",
    "# Устанавливаем вывод графиков в Jupyter\n",
    "get_ipython().run_line_magic('matplotlib', 'inline')"
   ]
  },
  {
   "cell_type": "code",
   "execution_count": 2,
   "metadata": {},
   "outputs": [],
   "source": [
    "# 2) Подготовка директорий для отчёта\n",
    "base_dir = os.path.abspath(os.path.join(os.getcwd(), \"..\", \"report-alex\"))\n",
    "pics_dir = os.path.abspath(os.path.join(base_dir, \"pics\"))\n",
    "csv_dir = os.path.abspath(os.path.join(base_dir, \"csv-files\"))\n",
    "\n",
    "# Если папка существует — удаляем её\n",
    "if os.path.exists(base_dir):\n",
    "    shutil.rmtree(base_dir)\n",
    "\n",
    "# Создаём заново\n",
    "os.makedirs(pics_dir)\n",
    "os.makedirs(csv_dir)"
   ]
  },
  {
   "cell_type": "code",
   "execution_count": 3,
   "metadata": {},
   "outputs": [],
   "source": [
    "# 3) Определение H0 и H1 (фиксированные для всей части I)\n",
    "beta0 = math.sqrt(0.5)  # β₀ = sqrt(1/2)\n",
    "sigma0 = 1.0\n",
    "dist0 = (\"laplace\", {\"mu\": 0, \"beta\": beta0})\n",
    "dist1 = (\"normal\", {\"mu\": 0, \"sigma\": sigma0})\n",
    "\n",
    "# Монте-Карло параметры общего эксперимента\n",
    "n_sim = 500\n",
    "alpha = 0.055\n",
    "seed = 42"
   ]
  },
  {
   "cell_type": "code",
   "execution_count": 4,
   "metadata": {},
   "outputs": [
    {
     "data": {
      "application/vnd.jupyter.widget-view+json": {
       "model_id": "f9aeaf5a3b714fb6a2bfa14cc99be8de",
       "version_major": 2,
       "version_minor": 0
      },
      "text/plain": [
       "Sample sizes:   0%|          | 0/1 [00:00<?, ?it/s]"
      ]
     },
     "metadata": {},
     "output_type": "display_data"
    },
    {
     "data": {
      "application/vnd.jupyter.widget-view+json": {
       "model_id": "f88e5dbc623a4b38ac2654153a00866b",
       "version_major": 2,
       "version_minor": 0
      },
      "text/plain": [
       "Params for n=50:   0%|          | 0/39 [00:00<?, ?it/s]"
      ]
     },
     "metadata": {},
     "output_type": "display_data"
    },
    {
     "data": {
      "application/vnd.jupyter.widget-view+json": {
       "model_id": "93f65a965f584e75992b8340b42afa62",
       "version_major": 2,
       "version_minor": 0
      },
      "text/plain": [
       "Sample sizes:   0%|          | 0/1 [00:00<?, ?it/s]"
      ]
     },
     "metadata": {},
     "output_type": "display_data"
    },
    {
     "data": {
      "application/vnd.jupyter.widget-view+json": {
       "model_id": "035c2680430941e68d1e9d0e52c060b5",
       "version_major": 2,
       "version_minor": 0
      },
      "text/plain": [
       "Params for n=50:   0%|          | 0/39 [00:00<?, ?it/s]"
      ]
     },
     "metadata": {},
     "output_type": "display_data"
    },
    {
     "data": {
      "application/vnd.jupyter.widget-view+json": {
       "model_id": "4d715da130ac469798afed522b691472",
       "version_major": 2,
       "version_minor": 0
      },
      "text/plain": [
       "Sample sizes:   0%|          | 0/1 [00:00<?, ?it/s]"
      ]
     },
     "metadata": {},
     "output_type": "display_data"
    },
    {
     "data": {
      "application/vnd.jupyter.widget-view+json": {
       "model_id": "b7d550e2cb6c4d399cfecd24c783b40b",
       "version_major": 2,
       "version_minor": 0
      },
      "text/plain": [
       "Params for n=50:   0%|          | 0/39 [00:00<?, ?it/s]"
      ]
     },
     "metadata": {},
     "output_type": "display_data"
    },
    {
     "data": {
      "application/vnd.jupyter.widget-view+json": {
       "model_id": "86bf140e89b14127bd8e12a5ddffd299",
       "version_major": 2,
       "version_minor": 0
      },
      "text/plain": [
       "Sample sizes:   0%|          | 0/1 [00:00<?, ?it/s]"
      ]
     },
     "metadata": {},
     "output_type": "display_data"
    },
    {
     "data": {
      "application/vnd.jupyter.widget-view+json": {
       "model_id": "3de4eba5ba1c4823a8d7af174672a9c9",
       "version_major": 2,
       "version_minor": 0
      },
      "text/plain": [
       "Params for n=50:   0%|          | 0/39 [00:00<?, ?it/s]"
      ]
     },
     "metadata": {},
     "output_type": "display_data"
    },
    {
     "data": {
      "application/vnd.jupyter.widget-view+json": {
       "model_id": "d82c4564061b4809ae1f1ad4fb1e3312",
       "version_major": 2,
       "version_minor": 0
      },
      "text/plain": [
       "Sample sizes:   0%|          | 0/1 [00:00<?, ?it/s]"
      ]
     },
     "metadata": {},
     "output_type": "display_data"
    },
    {
     "data": {
      "application/vnd.jupyter.widget-view+json": {
       "model_id": "37771faf41a640868d47f9ae62b0a787",
       "version_major": 2,
       "version_minor": 0
      },
      "text/plain": [
       "Params for n=50:   0%|          | 0/39 [00:00<?, ?it/s]"
      ]
     },
     "metadata": {},
     "output_type": "display_data"
    },
    {
     "name": "stdout",
     "output_type": "stream",
     "text": [
      "Best k-NN feature: triangle_count, max power: 0.570\n"
     ]
    },
    {
     "data": {
      "text/html": [
       "<div>\n",
       "<style scoped>\n",
       "    .dataframe tbody tr th:only-of-type {\n",
       "        vertical-align: middle;\n",
       "    }\n",
       "\n",
       "    .dataframe tbody tr th {\n",
       "        vertical-align: top;\n",
       "    }\n",
       "\n",
       "    .dataframe thead th {\n",
       "        text-align: right;\n",
       "    }\n",
       "</style>\n",
       "<table border=\"1\" class=\"dataframe\">\n",
       "  <thead>\n",
       "    <tr style=\"text-align: right;\">\n",
       "      <th></th>\n",
       "      <th>n</th>\n",
       "      <th>param</th>\n",
       "      <th>mean_H0</th>\n",
       "      <th>var_H0</th>\n",
       "      <th>mean_H1</th>\n",
       "      <th>var_H1</th>\n",
       "      <th>threshold</th>\n",
       "      <th>power</th>\n",
       "    </tr>\n",
       "  </thead>\n",
       "  <tbody>\n",
       "    <tr>\n",
       "      <th>24</th>\n",
       "      <td>50</td>\n",
       "      <td>25</td>\n",
       "      <td>2354.275</td>\n",
       "      <td>12229.389375</td>\n",
       "      <td>2572.955</td>\n",
       "      <td>25539.352975</td>\n",
       "      <td>2540.0</td>\n",
       "      <td>0.570</td>\n",
       "    </tr>\n",
       "    <tr>\n",
       "      <th>26</th>\n",
       "      <td>50</td>\n",
       "      <td>27</td>\n",
       "      <td>2852.270</td>\n",
       "      <td>8635.597100</td>\n",
       "      <td>3040.195</td>\n",
       "      <td>19418.666975</td>\n",
       "      <td>3011.0</td>\n",
       "      <td>0.525</td>\n",
       "    </tr>\n",
       "    <tr>\n",
       "      <th>22</th>\n",
       "      <td>50</td>\n",
       "      <td>23</td>\n",
       "      <td>1919.185</td>\n",
       "      <td>13673.520775</td>\n",
       "      <td>2129.135</td>\n",
       "      <td>23212.786775</td>\n",
       "      <td>2120.0</td>\n",
       "      <td>0.515</td>\n",
       "    </tr>\n",
       "    <tr>\n",
       "      <th>25</th>\n",
       "      <td>50</td>\n",
       "      <td>26</td>\n",
       "      <td>2581.945</td>\n",
       "      <td>10325.211975</td>\n",
       "      <td>2782.050</td>\n",
       "      <td>24911.867500</td>\n",
       "      <td>2756.0</td>\n",
       "      <td>0.500</td>\n",
       "    </tr>\n",
       "    <tr>\n",
       "      <th>17</th>\n",
       "      <td>50</td>\n",
       "      <td>18</td>\n",
       "      <td>1100.000</td>\n",
       "      <td>9834.410000</td>\n",
       "      <td>1259.920</td>\n",
       "      <td>13348.973600</td>\n",
       "      <td>1257.0</td>\n",
       "      <td>0.495</td>\n",
       "    </tr>\n",
       "    <tr>\n",
       "      <th>21</th>\n",
       "      <td>50</td>\n",
       "      <td>22</td>\n",
       "      <td>1737.205</td>\n",
       "      <td>13549.512975</td>\n",
       "      <td>1944.300</td>\n",
       "      <td>25556.510000</td>\n",
       "      <td>1951.0</td>\n",
       "      <td>0.480</td>\n",
       "    </tr>\n",
       "    <tr>\n",
       "      <th>13</th>\n",
       "      <td>50</td>\n",
       "      <td>14</td>\n",
       "      <td>654.335</td>\n",
       "      <td>3842.422775</td>\n",
       "      <td>741.275</td>\n",
       "      <td>3848.499375</td>\n",
       "      <td>750.0</td>\n",
       "      <td>0.460</td>\n",
       "    </tr>\n",
       "    <tr>\n",
       "      <th>20</th>\n",
       "      <td>50</td>\n",
       "      <td>21</td>\n",
       "      <td>1557.825</td>\n",
       "      <td>11831.354375</td>\n",
       "      <td>1739.725</td>\n",
       "      <td>21622.809375</td>\n",
       "      <td>1754.0</td>\n",
       "      <td>0.455</td>\n",
       "    </tr>\n",
       "    <tr>\n",
       "      <th>23</th>\n",
       "      <td>50</td>\n",
       "      <td>24</td>\n",
       "      <td>2129.650</td>\n",
       "      <td>12961.067500</td>\n",
       "      <td>2320.430</td>\n",
       "      <td>27023.215100</td>\n",
       "      <td>2336.0</td>\n",
       "      <td>0.440</td>\n",
       "    </tr>\n",
       "    <tr>\n",
       "      <th>18</th>\n",
       "      <td>50</td>\n",
       "      <td>19</td>\n",
       "      <td>1232.275</td>\n",
       "      <td>11448.759375</td>\n",
       "      <td>1412.530</td>\n",
       "      <td>16033.159100</td>\n",
       "      <td>1423.0</td>\n",
       "      <td>0.425</td>\n",
       "    </tr>\n",
       "  </tbody>\n",
       "</table>\n",
       "</div>"
      ],
      "text/plain": [
       "     n  param   mean_H0        var_H0   mean_H1        var_H1  threshold  \\\n",
       "24  50     25  2354.275  12229.389375  2572.955  25539.352975     2540.0   \n",
       "26  50     27  2852.270   8635.597100  3040.195  19418.666975     3011.0   \n",
       "22  50     23  1919.185  13673.520775  2129.135  23212.786775     2120.0   \n",
       "25  50     26  2581.945  10325.211975  2782.050  24911.867500     2756.0   \n",
       "17  50     18  1100.000   9834.410000  1259.920  13348.973600     1257.0   \n",
       "21  50     22  1737.205  13549.512975  1944.300  25556.510000     1951.0   \n",
       "13  50     14   654.335   3842.422775   741.275   3848.499375      750.0   \n",
       "20  50     21  1557.825  11831.354375  1739.725  21622.809375     1754.0   \n",
       "23  50     24  2129.650  12961.067500  2320.430  27023.215100     2336.0   \n",
       "18  50     19  1232.275  11448.759375  1412.530  16033.159100     1423.0   \n",
       "\n",
       "    power  \n",
       "24  0.570  \n",
       "26  0.525  \n",
       "22  0.515  \n",
       "25  0.500  \n",
       "17  0.495  \n",
       "21  0.480  \n",
       "13  0.460  \n",
       "20  0.455  \n",
       "23  0.440  \n",
       "18  0.425  "
      ]
     },
     "execution_count": 4,
     "metadata": {},
     "output_type": "execute_result"
    }
   ],
   "source": [
    "# 4) Быстрое исследование диапазона k для k-NN при малом n, чтобы выбрать k и лучший признак\n",
    "sample_sizes_small = [50]\n",
    "params_knn = list(range(1, 40))\n",
    "features_knn = [\n",
    "    \"max_degree\",\n",
    "    \"min_degree\",\n",
    "    \"num_components\",\n",
    "    \"articulation_points\",\n",
    "    \"triangle_count\",\n",
    "]\n",
    "\n",
    "results = {}\n",
    "for feat in features_knn:\n",
    "    df = run_experiment(\n",
    "        dist0,\n",
    "        dist1,\n",
    "        sample_sizes=sample_sizes_small,\n",
    "        params=params_knn,\n",
    "        feature_name=feat,\n",
    "        n_sim=200,\n",
    "        graph_type=\"knn\",\n",
    "        alpha=alpha,\n",
    "        seed=seed,\n",
    "    )\n",
    "    results[feat] = df\n",
    "\n",
    "# Рассчитываем максимальную мощность для каждого признака\n",
    "max_powers = {feat: df[\"power\"].max() for feat, df in results.items()}\n",
    "best_feat = max(max_powers, key=max_powers.get)\n",
    "print(f\"Best k-NN feature: {best_feat}, max power: {max_powers[best_feat]:.3f}\")\n",
    "\n",
    "# Топ-10 для лучшего признака\n",
    "df_best_knn = results[best_feat].sort_values(\"power\", ascending=False).head(10)\n",
    "df_best_knn"
   ]
  },
  {
   "cell_type": "code",
   "execution_count": 5,
   "metadata": {},
   "outputs": [
    {
     "data": {
      "application/vnd.jupyter.widget-view+json": {
       "model_id": "125061da072f4f25a9ace90eb65dd000",
       "version_major": 2,
       "version_minor": 0
      },
      "text/plain": [
       "Sample sizes:   0%|          | 0/1 [00:00<?, ?it/s]"
      ]
     },
     "metadata": {},
     "output_type": "display_data"
    },
    {
     "data": {
      "application/vnd.jupyter.widget-view+json": {
       "model_id": "0a630ccb0c40474e8163e38b22b1e86f",
       "version_major": 2,
       "version_minor": 0
      },
      "text/plain": [
       "Params for n=50:   0%|          | 0/39 [00:00<?, ?it/s]"
      ]
     },
     "metadata": {},
     "output_type": "display_data"
    },
    {
     "data": {
      "application/vnd.jupyter.widget-view+json": {
       "model_id": "3dc410ac878a436ba9c18203467dfa5b",
       "version_major": 2,
       "version_minor": 0
      },
      "text/plain": [
       "Sample sizes:   0%|          | 0/1 [00:00<?, ?it/s]"
      ]
     },
     "metadata": {},
     "output_type": "display_data"
    },
    {
     "data": {
      "application/vnd.jupyter.widget-view+json": {
       "model_id": "492209d1326f46da9cc9fac90621bd3a",
       "version_major": 2,
       "version_minor": 0
      },
      "text/plain": [
       "Params for n=50:   0%|          | 0/39 [00:00<?, ?it/s]"
      ]
     },
     "metadata": {},
     "output_type": "display_data"
    },
    {
     "data": {
      "application/vnd.jupyter.widget-view+json": {
       "model_id": "69d350eb116a473c8b02a556ee3c9054",
       "version_major": 2,
       "version_minor": 0
      },
      "text/plain": [
       "Sample sizes:   0%|          | 0/1 [00:00<?, ?it/s]"
      ]
     },
     "metadata": {},
     "output_type": "display_data"
    },
    {
     "data": {
      "application/vnd.jupyter.widget-view+json": {
       "model_id": "d9251ba09ff643289269521ce26baab6",
       "version_major": 2,
       "version_minor": 0
      },
      "text/plain": [
       "Params for n=50:   0%|          | 0/39 [00:00<?, ?it/s]"
      ]
     },
     "metadata": {},
     "output_type": "display_data"
    },
    {
     "data": {
      "application/vnd.jupyter.widget-view+json": {
       "model_id": "5eed3012540b4e3499cf5543b52dabee",
       "version_major": 2,
       "version_minor": 0
      },
      "text/plain": [
       "Sample sizes:   0%|          | 0/1 [00:00<?, ?it/s]"
      ]
     },
     "metadata": {},
     "output_type": "display_data"
    },
    {
     "data": {
      "application/vnd.jupyter.widget-view+json": {
       "model_id": "7998bf4d18744705a3ad39fabf955074",
       "version_major": 2,
       "version_minor": 0
      },
      "text/plain": [
       "Params for n=50:   0%|          | 0/39 [00:00<?, ?it/s]"
      ]
     },
     "metadata": {},
     "output_type": "display_data"
    },
    {
     "data": {
      "application/vnd.jupyter.widget-view+json": {
       "model_id": "859e86bc73974684b0bacd6d4802072b",
       "version_major": 2,
       "version_minor": 0
      },
      "text/plain": [
       "Sample sizes:   0%|          | 0/1 [00:00<?, ?it/s]"
      ]
     },
     "metadata": {},
     "output_type": "display_data"
    },
    {
     "data": {
      "application/vnd.jupyter.widget-view+json": {
       "model_id": "42a319c7f6eb46c7a506f1fea7c39888",
       "version_major": 2,
       "version_minor": 0
      },
      "text/plain": [
       "Params for n=50:   0%|          | 0/39 [00:00<?, ?it/s]"
      ]
     },
     "metadata": {},
     "output_type": "display_data"
    },
    {
     "name": "stdout",
     "output_type": "stream",
     "text": [
      "Best distance-graph feature: chromatic_number, max power: 0.035\n"
     ]
    },
    {
     "data": {
      "text/html": [
       "<div>\n",
       "<style scoped>\n",
       "    .dataframe tbody tr th:only-of-type {\n",
       "        vertical-align: middle;\n",
       "    }\n",
       "\n",
       "    .dataframe tbody tr th {\n",
       "        vertical-align: top;\n",
       "    }\n",
       "\n",
       "    .dataframe thead th {\n",
       "        text-align: right;\n",
       "    }\n",
       "</style>\n",
       "<table border=\"1\" class=\"dataframe\">\n",
       "  <thead>\n",
       "    <tr style=\"text-align: right;\">\n",
       "      <th></th>\n",
       "      <th>n</th>\n",
       "      <th>param</th>\n",
       "      <th>mean_H0</th>\n",
       "      <th>var_H0</th>\n",
       "      <th>mean_H1</th>\n",
       "      <th>var_H1</th>\n",
       "      <th>threshold</th>\n",
       "      <th>power</th>\n",
       "    </tr>\n",
       "  </thead>\n",
       "  <tbody>\n",
       "    <tr>\n",
       "      <th>2</th>\n",
       "      <td>50</td>\n",
       "      <td>3</td>\n",
       "      <td>45.300</td>\n",
       "      <td>3.540000</td>\n",
       "      <td>44.920</td>\n",
       "      <td>5.013600</td>\n",
       "      <td>48.0</td>\n",
       "      <td>0.035</td>\n",
       "    </tr>\n",
       "    <tr>\n",
       "      <th>0</th>\n",
       "      <td>50</td>\n",
       "      <td>1</td>\n",
       "      <td>27.945</td>\n",
       "      <td>7.491975</td>\n",
       "      <td>22.905</td>\n",
       "      <td>8.735975</td>\n",
       "      <td>33.0</td>\n",
       "      <td>0.005</td>\n",
       "    </tr>\n",
       "    <tr>\n",
       "      <th>29</th>\n",
       "      <td>50</td>\n",
       "      <td>30</td>\n",
       "      <td>50.000</td>\n",
       "      <td>0.000000</td>\n",
       "      <td>50.000</td>\n",
       "      <td>0.000000</td>\n",
       "      <td>50.0</td>\n",
       "      <td>0.000</td>\n",
       "    </tr>\n",
       "    <tr>\n",
       "      <th>22</th>\n",
       "      <td>50</td>\n",
       "      <td>23</td>\n",
       "      <td>50.000</td>\n",
       "      <td>0.000000</td>\n",
       "      <td>50.000</td>\n",
       "      <td>0.000000</td>\n",
       "      <td>50.0</td>\n",
       "      <td>0.000</td>\n",
       "    </tr>\n",
       "    <tr>\n",
       "      <th>23</th>\n",
       "      <td>50</td>\n",
       "      <td>24</td>\n",
       "      <td>50.000</td>\n",
       "      <td>0.000000</td>\n",
       "      <td>50.000</td>\n",
       "      <td>0.000000</td>\n",
       "      <td>50.0</td>\n",
       "      <td>0.000</td>\n",
       "    </tr>\n",
       "    <tr>\n",
       "      <th>24</th>\n",
       "      <td>50</td>\n",
       "      <td>25</td>\n",
       "      <td>50.000</td>\n",
       "      <td>0.000000</td>\n",
       "      <td>50.000</td>\n",
       "      <td>0.000000</td>\n",
       "      <td>50.0</td>\n",
       "      <td>0.000</td>\n",
       "    </tr>\n",
       "    <tr>\n",
       "      <th>25</th>\n",
       "      <td>50</td>\n",
       "      <td>26</td>\n",
       "      <td>50.000</td>\n",
       "      <td>0.000000</td>\n",
       "      <td>50.000</td>\n",
       "      <td>0.000000</td>\n",
       "      <td>50.0</td>\n",
       "      <td>0.000</td>\n",
       "    </tr>\n",
       "    <tr>\n",
       "      <th>26</th>\n",
       "      <td>50</td>\n",
       "      <td>27</td>\n",
       "      <td>50.000</td>\n",
       "      <td>0.000000</td>\n",
       "      <td>50.000</td>\n",
       "      <td>0.000000</td>\n",
       "      <td>50.0</td>\n",
       "      <td>0.000</td>\n",
       "    </tr>\n",
       "    <tr>\n",
       "      <th>27</th>\n",
       "      <td>50</td>\n",
       "      <td>28</td>\n",
       "      <td>50.000</td>\n",
       "      <td>0.000000</td>\n",
       "      <td>50.000</td>\n",
       "      <td>0.000000</td>\n",
       "      <td>50.0</td>\n",
       "      <td>0.000</td>\n",
       "    </tr>\n",
       "    <tr>\n",
       "      <th>28</th>\n",
       "      <td>50</td>\n",
       "      <td>29</td>\n",
       "      <td>50.000</td>\n",
       "      <td>0.000000</td>\n",
       "      <td>50.000</td>\n",
       "      <td>0.000000</td>\n",
       "      <td>50.0</td>\n",
       "      <td>0.000</td>\n",
       "    </tr>\n",
       "  </tbody>\n",
       "</table>\n",
       "</div>"
      ],
      "text/plain": [
       "     n  param  mean_H0    var_H0  mean_H1    var_H1  threshold  power\n",
       "2   50      3   45.300  3.540000   44.920  5.013600       48.0  0.035\n",
       "0   50      1   27.945  7.491975   22.905  8.735975       33.0  0.005\n",
       "29  50     30   50.000  0.000000   50.000  0.000000       50.0  0.000\n",
       "22  50     23   50.000  0.000000   50.000  0.000000       50.0  0.000\n",
       "23  50     24   50.000  0.000000   50.000  0.000000       50.0  0.000\n",
       "24  50     25   50.000  0.000000   50.000  0.000000       50.0  0.000\n",
       "25  50     26   50.000  0.000000   50.000  0.000000       50.0  0.000\n",
       "26  50     27   50.000  0.000000   50.000  0.000000       50.0  0.000\n",
       "27  50     28   50.000  0.000000   50.000  0.000000       50.0  0.000\n",
       "28  50     29   50.000  0.000000   50.000  0.000000       50.0  0.000"
      ]
     },
     "execution_count": 5,
     "metadata": {},
     "output_type": "execute_result"
    }
   ],
   "source": [
    "# 5) Быстрое исследование диапазона d для ε-графа при малом n, чтобы выбрать d и лучший признак\n",
    "sample_sizes_small = [50]\n",
    "params_dist = list(range(1, 40))\n",
    "features_dist = [\n",
    "    \"chromatic_number\",\n",
    "    \"clique_number\",\n",
    "    \"max_independent_set\",\n",
    "    \"domination_number\",\n",
    "    \"clique_cover_number\",\n",
    "]\n",
    "\n",
    "results = {}\n",
    "for feat in features_dist:\n",
    "    df = run_experiment(\n",
    "        dist0,\n",
    "        dist1,\n",
    "        sample_sizes=sample_sizes_small,\n",
    "        params=params_dist,\n",
    "        feature_name=feat,\n",
    "        n_sim=200,\n",
    "        graph_type=\"distance\",\n",
    "        alpha=alpha,\n",
    "        seed=seed,\n",
    "    )\n",
    "    results[feat] = df\n",
    "\n",
    "# Рассчитываем максимальную мощность для каждого признака\n",
    "max_powers = {feat: df[\"power\"].max() for feat, df in results.items()}\n",
    "best_feat = max(max_powers, key=max_powers.get)\n",
    "print(\n",
    "    f\"Best distance-graph feature: {best_feat}, max power: {max_powers[best_feat]:.3f}\"\n",
    ")\n",
    "\n",
    "# Топ-10 для лучшего признака\n",
    "df_best_dist = results[best_feat].sort_values(\"power\", ascending=False).head(10)\n",
    "df_best_dist"
   ]
  },
  {
   "cell_type": "code",
   "execution_count": 6,
   "metadata": {},
   "outputs": [],
   "source": [
    "# 6) Фиксированные параметры после эксплорейшена\n",
    "fixed_k = 25\n",
    "knn_feat = \"triangle_count\"\n",
    "\n",
    "fixed_d = 3\n",
    "dist_feat = \"chromatic_number\"\n",
    "\n",
    "# Сетка по n для основной части\n",
    "sample_sizes = [50, 100, 200, 500]"
   ]
  },
  {
   "cell_type": "code",
   "execution_count": 7,
   "metadata": {},
   "outputs": [
    {
     "data": {
      "application/vnd.jupyter.widget-view+json": {
       "model_id": "cdcd61fc842342749ad242c5e9735b99",
       "version_major": 2,
       "version_minor": 0
      },
      "text/plain": [
       "Sample sizes:   0%|          | 0/1 [00:00<?, ?it/s]"
      ]
     },
     "metadata": {},
     "output_type": "display_data"
    },
    {
     "data": {
      "application/vnd.jupyter.widget-view+json": {
       "model_id": "7134b2c7485c42e096d2d87ee838058d",
       "version_major": 2,
       "version_minor": 0
      },
      "text/plain": [
       "Params for n=100:   0%|          | 0/1 [00:00<?, ?it/s]"
      ]
     },
     "metadata": {},
     "output_type": "display_data"
    },
    {
     "data": {
      "application/vnd.jupyter.widget-view+json": {
       "model_id": "36f50a616b9d470991d421ed2b85ff5b",
       "version_major": 2,
       "version_minor": 0
      },
      "text/plain": [
       "Sample sizes:   0%|          | 0/1 [00:00<?, ?it/s]"
      ]
     },
     "metadata": {},
     "output_type": "display_data"
    },
    {
     "data": {
      "application/vnd.jupyter.widget-view+json": {
       "model_id": "618dfeabfe8e442aa841e074c1906c15",
       "version_major": 2,
       "version_minor": 0
      },
      "text/plain": [
       "Params for n=100:   0%|          | 0/1 [00:00<?, ?it/s]"
      ]
     },
     "metadata": {},
     "output_type": "display_data"
    },
    {
     "data": {
      "application/vnd.jupyter.widget-view+json": {
       "model_id": "8dbab571b1e640ecb968dfb56b187359",
       "version_major": 2,
       "version_minor": 0
      },
      "text/plain": [
       "Sample sizes:   0%|          | 0/1 [00:00<?, ?it/s]"
      ]
     },
     "metadata": {},
     "output_type": "display_data"
    },
    {
     "data": {
      "application/vnd.jupyter.widget-view+json": {
       "model_id": "c794d03869e043d98abc66093a0f5e37",
       "version_major": 2,
       "version_minor": 0
      },
      "text/plain": [
       "Params for n=100:   0%|          | 0/1 [00:00<?, ?it/s]"
      ]
     },
     "metadata": {},
     "output_type": "display_data"
    },
    {
     "data": {
      "application/vnd.jupyter.widget-view+json": {
       "model_id": "908bdfbf466c4922baa8c1da1a0de95f",
       "version_major": 2,
       "version_minor": 0
      },
      "text/plain": [
       "Sample sizes:   0%|          | 0/1 [00:00<?, ?it/s]"
      ]
     },
     "metadata": {},
     "output_type": "display_data"
    },
    {
     "data": {
      "application/vnd.jupyter.widget-view+json": {
       "model_id": "064af21cc32e4abdb148ef167859b6fd",
       "version_major": 2,
       "version_minor": 0
      },
      "text/plain": [
       "Params for n=100:   0%|          | 0/1 [00:00<?, ?it/s]"
      ]
     },
     "metadata": {},
     "output_type": "display_data"
    },
    {
     "data": {
      "text/html": [
       "<div>\n",
       "<style scoped>\n",
       "    .dataframe tbody tr th:only-of-type {\n",
       "        vertical-align: middle;\n",
       "    }\n",
       "\n",
       "    .dataframe tbody tr th {\n",
       "        vertical-align: top;\n",
       "    }\n",
       "\n",
       "    .dataframe thead th {\n",
       "        text-align: right;\n",
       "    }\n",
       "</style>\n",
       "<table border=\"1\" class=\"dataframe\">\n",
       "  <thead>\n",
       "    <tr style=\"text-align: right;\">\n",
       "      <th></th>\n",
       "      <th>beta</th>\n",
       "      <th>E0</th>\n",
       "      <th>E1</th>\n",
       "      <th>power</th>\n",
       "    </tr>\n",
       "  </thead>\n",
       "  <tbody>\n",
       "    <tr>\n",
       "      <th>0</th>\n",
       "      <td>0.2</td>\n",
       "      <td>4502.552</td>\n",
       "      <td>5194.954</td>\n",
       "      <td>0.734</td>\n",
       "    </tr>\n",
       "    <tr>\n",
       "      <th>1</th>\n",
       "      <td>0.5</td>\n",
       "      <td>4502.552</td>\n",
       "      <td>5194.954</td>\n",
       "      <td>0.734</td>\n",
       "    </tr>\n",
       "    <tr>\n",
       "      <th>2</th>\n",
       "      <td>1.0</td>\n",
       "      <td>4502.552</td>\n",
       "      <td>5194.954</td>\n",
       "      <td>0.734</td>\n",
       "    </tr>\n",
       "    <tr>\n",
       "      <th>3</th>\n",
       "      <td>2.0</td>\n",
       "      <td>4502.552</td>\n",
       "      <td>5194.954</td>\n",
       "      <td>0.734</td>\n",
       "    </tr>\n",
       "  </tbody>\n",
       "</table>\n",
       "</div>"
      ],
      "text/plain": [
       "   beta        E0        E1  power\n",
       "0   0.2  4502.552  5194.954  0.734\n",
       "1   0.5  4502.552  5194.954  0.734\n",
       "2   1.0  4502.552  5194.954  0.734\n",
       "3   2.0  4502.552  5194.954  0.734"
      ]
     },
     "execution_count": 7,
     "metadata": {},
     "output_type": "execute_result"
    }
   ],
   "source": [
    "# 7) Исследование зависимости T от параметров H0 (β₀) при k-NN\n",
    "betas = [0.2, 0.5, 1.0, 2.0]\n",
    "results_beta = []\n",
    "\n",
    "for beta in betas:\n",
    "    dist0_var = (\"laplace\", {\"mu\": 0, \"beta\": beta})\n",
    "    df = run_experiment(\n",
    "        dist0_var,\n",
    "        dist1,\n",
    "        sample_sizes=[100],\n",
    "        params=[fixed_k],\n",
    "        feature_name=knn_feat,\n",
    "        n_sim=n_sim,\n",
    "        graph_type=\"knn\",\n",
    "        alpha=alpha,\n",
    "        seed=seed,\n",
    "    )\n",
    "    row = df.iloc[0]\n",
    "    results_beta.append(\n",
    "        {\n",
    "            \"beta\": beta,\n",
    "            \"E0\": row[\"mean_H0\"],\n",
    "            \"E1\": row[\"mean_H1\"],\n",
    "            \"power\": row[\"power\"],\n",
    "        }\n",
    "    )\n",
    "\n",
    "df_beta_knn = pd.DataFrame(results_beta)\n",
    "df_beta_knn"
   ]
  },
  {
   "cell_type": "code",
   "execution_count": 8,
   "metadata": {},
   "outputs": [
    {
     "data": {
      "application/vnd.jupyter.widget-view+json": {
       "model_id": "d0e5e30214274984baf2c46f66f18c4d",
       "version_major": 2,
       "version_minor": 0
      },
      "text/plain": [
       "Sample sizes:   0%|          | 0/1 [00:00<?, ?it/s]"
      ]
     },
     "metadata": {},
     "output_type": "display_data"
    },
    {
     "data": {
      "application/vnd.jupyter.widget-view+json": {
       "model_id": "3253a4042fc14572a62e7cf5d64dad71",
       "version_major": 2,
       "version_minor": 0
      },
      "text/plain": [
       "Params for n=100:   0%|          | 0/1 [00:00<?, ?it/s]"
      ]
     },
     "metadata": {},
     "output_type": "display_data"
    },
    {
     "data": {
      "application/vnd.jupyter.widget-view+json": {
       "model_id": "35c23babd15046de988b84600d4bc789",
       "version_major": 2,
       "version_minor": 0
      },
      "text/plain": [
       "Sample sizes:   0%|          | 0/1 [00:00<?, ?it/s]"
      ]
     },
     "metadata": {},
     "output_type": "display_data"
    },
    {
     "data": {
      "application/vnd.jupyter.widget-view+json": {
       "model_id": "2d983ed1b09d44babac74ac49ad07ab2",
       "version_major": 2,
       "version_minor": 0
      },
      "text/plain": [
       "Params for n=100:   0%|          | 0/1 [00:00<?, ?it/s]"
      ]
     },
     "metadata": {},
     "output_type": "display_data"
    },
    {
     "data": {
      "application/vnd.jupyter.widget-view+json": {
       "model_id": "50369b79452645ae91122ea3c0d69e89",
       "version_major": 2,
       "version_minor": 0
      },
      "text/plain": [
       "Sample sizes:   0%|          | 0/1 [00:00<?, ?it/s]"
      ]
     },
     "metadata": {},
     "output_type": "display_data"
    },
    {
     "data": {
      "application/vnd.jupyter.widget-view+json": {
       "model_id": "eacf99b1f51c42ecb6684482e485e6ea",
       "version_major": 2,
       "version_minor": 0
      },
      "text/plain": [
       "Params for n=100:   0%|          | 0/1 [00:00<?, ?it/s]"
      ]
     },
     "metadata": {},
     "output_type": "display_data"
    },
    {
     "data": {
      "application/vnd.jupyter.widget-view+json": {
       "model_id": "466df161c41446e0a53449544184d492",
       "version_major": 2,
       "version_minor": 0
      },
      "text/plain": [
       "Sample sizes:   0%|          | 0/1 [00:00<?, ?it/s]"
      ]
     },
     "metadata": {},
     "output_type": "display_data"
    },
    {
     "data": {
      "application/vnd.jupyter.widget-view+json": {
       "model_id": "b8873999172c424195bc2f99c026e459",
       "version_major": 2,
       "version_minor": 0
      },
      "text/plain": [
       "Params for n=100:   0%|          | 0/1 [00:00<?, ?it/s]"
      ]
     },
     "metadata": {},
     "output_type": "display_data"
    },
    {
     "data": {
      "text/html": [
       "<div>\n",
       "<style scoped>\n",
       "    .dataframe tbody tr th:only-of-type {\n",
       "        vertical-align: middle;\n",
       "    }\n",
       "\n",
       "    .dataframe tbody tr th {\n",
       "        vertical-align: top;\n",
       "    }\n",
       "\n",
       "    .dataframe thead th {\n",
       "        text-align: right;\n",
       "    }\n",
       "</style>\n",
       "<table border=\"1\" class=\"dataframe\">\n",
       "  <thead>\n",
       "    <tr style=\"text-align: right;\">\n",
       "      <th></th>\n",
       "      <th>beta</th>\n",
       "      <th>E0</th>\n",
       "      <th>E1</th>\n",
       "      <th>power</th>\n",
       "    </tr>\n",
       "  </thead>\n",
       "  <tbody>\n",
       "    <tr>\n",
       "      <th>0</th>\n",
       "      <td>0.2</td>\n",
       "      <td>99.992</td>\n",
       "      <td>88.634</td>\n",
       "      <td>0.00</td>\n",
       "    </tr>\n",
       "    <tr>\n",
       "      <th>1</th>\n",
       "      <td>0.5</td>\n",
       "      <td>96.218</td>\n",
       "      <td>88.634</td>\n",
       "      <td>0.00</td>\n",
       "    </tr>\n",
       "    <tr>\n",
       "      <th>2</th>\n",
       "      <td>1.0</td>\n",
       "      <td>79.972</td>\n",
       "      <td>88.634</td>\n",
       "      <td>0.76</td>\n",
       "    </tr>\n",
       "    <tr>\n",
       "      <th>3</th>\n",
       "      <td>2.0</td>\n",
       "      <td>55.990</td>\n",
       "      <td>88.634</td>\n",
       "      <td>1.00</td>\n",
       "    </tr>\n",
       "  </tbody>\n",
       "</table>\n",
       "</div>"
      ],
      "text/plain": [
       "   beta      E0      E1  power\n",
       "0   0.2  99.992  88.634   0.00\n",
       "1   0.5  96.218  88.634   0.00\n",
       "2   1.0  79.972  88.634   0.76\n",
       "3   2.0  55.990  88.634   1.00"
      ]
     },
     "execution_count": 8,
     "metadata": {},
     "output_type": "execute_result"
    }
   ],
   "source": [
    "# 8) Исследование зависимости T от параметров H0 (β₀) при ε-графе\n",
    "betas = [0.2, 0.5, 1.0, 2.0]\n",
    "results_beta_dist = []\n",
    "\n",
    "for beta in betas:\n",
    "    dist0_var = (\"laplace\", {\"mu\": 0, \"beta\": beta})\n",
    "    df = run_experiment(\n",
    "        dist0_var,\n",
    "        dist1,\n",
    "        sample_sizes=[100],\n",
    "        params=[fixed_d],\n",
    "        feature_name=dist_feat,\n",
    "        n_sim=n_sim,\n",
    "        graph_type=\"distance\",\n",
    "        alpha=alpha,\n",
    "        seed=seed,\n",
    "    )\n",
    "    row = df.iloc[0]\n",
    "    results_beta_dist.append(\n",
    "        {\n",
    "            \"beta\": beta,\n",
    "            \"E0\": row[\"mean_H0\"],\n",
    "            \"E1\": row[\"mean_H1\"],\n",
    "            \"power\": row[\"power\"],\n",
    "        }\n",
    "    )\n",
    "\n",
    "df_beta_dist = pd.DataFrame(results_beta_dist)\n",
    "df_beta_dist"
   ]
  },
  {
   "cell_type": "code",
   "execution_count": 9,
   "metadata": {},
   "outputs": [
    {
     "data": {
      "application/vnd.jupyter.widget-view+json": {
       "model_id": "e2573d150da141eab263dcd0cb8d5c43",
       "version_major": 2,
       "version_minor": 0
      },
      "text/plain": [
       "Sample sizes:   0%|          | 0/4 [00:00<?, ?it/s]"
      ]
     },
     "metadata": {},
     "output_type": "display_data"
    },
    {
     "data": {
      "application/vnd.jupyter.widget-view+json": {
       "model_id": "edc343b2cbc44065920bdca92d88a77a",
       "version_major": 2,
       "version_minor": 0
      },
      "text/plain": [
       "Params for n=50:   0%|          | 0/1 [00:00<?, ?it/s]"
      ]
     },
     "metadata": {},
     "output_type": "display_data"
    },
    {
     "data": {
      "application/vnd.jupyter.widget-view+json": {
       "model_id": "61c396d8b17d44f5b68eca2027ecd0b6",
       "version_major": 2,
       "version_minor": 0
      },
      "text/plain": [
       "Params for n=100:   0%|          | 0/1 [00:00<?, ?it/s]"
      ]
     },
     "metadata": {},
     "output_type": "display_data"
    },
    {
     "data": {
      "application/vnd.jupyter.widget-view+json": {
       "model_id": "fa0521c59904479b9960d5184269e308",
       "version_major": 2,
       "version_minor": 0
      },
      "text/plain": [
       "Params for n=200:   0%|          | 0/1 [00:00<?, ?it/s]"
      ]
     },
     "metadata": {},
     "output_type": "display_data"
    },
    {
     "data": {
      "application/vnd.jupyter.widget-view+json": {
       "model_id": "1fa7d13f560845488f13b949797e4387",
       "version_major": 2,
       "version_minor": 0
      },
      "text/plain": [
       "Params for n=500:   0%|          | 0/1 [00:00<?, ?it/s]"
      ]
     },
     "metadata": {},
     "output_type": "display_data"
    },
    {
     "data": {
      "text/html": [
       "<div>\n",
       "<style scoped>\n",
       "    .dataframe tbody tr th:only-of-type {\n",
       "        vertical-align: middle;\n",
       "    }\n",
       "\n",
       "    .dataframe tbody tr th {\n",
       "        vertical-align: top;\n",
       "    }\n",
       "\n",
       "    .dataframe thead th {\n",
       "        text-align: right;\n",
       "    }\n",
       "</style>\n",
       "<table border=\"1\" class=\"dataframe\">\n",
       "  <thead>\n",
       "    <tr style=\"text-align: right;\">\n",
       "      <th></th>\n",
       "      <th>n</th>\n",
       "      <th>param</th>\n",
       "      <th>mean_H0</th>\n",
       "      <th>var_H0</th>\n",
       "      <th>mean_H1</th>\n",
       "      <th>var_H1</th>\n",
       "      <th>threshold</th>\n",
       "      <th>power</th>\n",
       "    </tr>\n",
       "  </thead>\n",
       "  <tbody>\n",
       "    <tr>\n",
       "      <th>0</th>\n",
       "      <td>50</td>\n",
       "      <td>25</td>\n",
       "      <td>2348.102</td>\n",
       "      <td>12151.435596</td>\n",
       "      <td>2556.928</td>\n",
       "      <td>24713.370816</td>\n",
       "      <td>2550.0</td>\n",
       "      <td>0.480</td>\n",
       "    </tr>\n",
       "    <tr>\n",
       "      <th>1</th>\n",
       "      <td>100</td>\n",
       "      <td>25</td>\n",
       "      <td>4517.770</td>\n",
       "      <td>96926.341100</td>\n",
       "      <td>5184.996</td>\n",
       "      <td>82312.663984</td>\n",
       "      <td>5057.0</td>\n",
       "      <td>0.678</td>\n",
       "    </tr>\n",
       "    <tr>\n",
       "      <th>2</th>\n",
       "      <td>200</td>\n",
       "      <td>25</td>\n",
       "      <td>10252.360</td>\n",
       "      <td>118046.494400</td>\n",
       "      <td>11119.976</td>\n",
       "      <td>123229.227424</td>\n",
       "      <td>10771.0</td>\n",
       "      <td>0.834</td>\n",
       "    </tr>\n",
       "    <tr>\n",
       "      <th>3</th>\n",
       "      <td>500</td>\n",
       "      <td>25</td>\n",
       "      <td>28860.138</td>\n",
       "      <td>240426.382956</td>\n",
       "      <td>29633.144</td>\n",
       "      <td>280727.755264</td>\n",
       "      <td>29615.0</td>\n",
       "      <td>0.524</td>\n",
       "    </tr>\n",
       "  </tbody>\n",
       "</table>\n",
       "</div>"
      ],
      "text/plain": [
       "     n  param    mean_H0         var_H0    mean_H1         var_H1  threshold  \\\n",
       "0   50     25   2348.102   12151.435596   2556.928   24713.370816     2550.0   \n",
       "1  100     25   4517.770   96926.341100   5184.996   82312.663984     5057.0   \n",
       "2  200     25  10252.360  118046.494400  11119.976  123229.227424    10771.0   \n",
       "3  500     25  28860.138  240426.382956  29633.144  280727.755264    29615.0   \n",
       "\n",
       "   power  \n",
       "0  0.480  \n",
       "1  0.678  \n",
       "2  0.834  \n",
       "3  0.524  "
      ]
     },
     "execution_count": 9,
     "metadata": {},
     "output_type": "execute_result"
    }
   ],
   "source": [
    "# 9) Основной эксперимент для k-NN с фиксированным k\n",
    "df_knn = run_experiment(\n",
    "    dist0,\n",
    "    dist1,\n",
    "    sample_sizes=sample_sizes,\n",
    "    params=[fixed_k],\n",
    "    feature_name=knn_feat,\n",
    "    n_sim=n_sim,\n",
    "    graph_type=\"knn\",\n",
    "    alpha=alpha,\n",
    "    seed=seed,\n",
    ")\n",
    "df_knn.to_csv(os.path.join(csv_dir, \"results_knn.csv\"), index=False)\n",
    "df_knn"
   ]
  },
  {
   "cell_type": "code",
   "execution_count": 10,
   "metadata": {},
   "outputs": [
    {
     "data": {
      "image/png": "[encoded data removed]",
      "text/plain": [
       "<Figure size 640x480 with 1 Axes>"
      ]
     },
     "metadata": {},
     "output_type": "display_data"
    },
    {
     "data": {
      "image/png": "[encoded data removed]",
      "text/plain": [
       "<Figure size 640x480 with 1 Axes>"
      ]
     },
     "metadata": {},
     "output_type": "display_data"
    }
   ],
   "source": [
    "# 10) Графики для k-NN\n",
    "# Power vs n\n",
    "plt.figure()\n",
    "plt.plot(df_knn[\"n\"], df_knn[\"power\"], marker=\"o\")\n",
    "plt.xlabel(\"n\")\n",
    "plt.ylabel(\"Power\")\n",
    "plt.title(f\"k-NN (k={fixed_k}): мощность vs размер выборки\")\n",
    "plt.grid(True)\n",
    "plt.savefig(os.path.join(pics_dir, \"knn_power_vs_n.png\"), dpi=300)\n",
    "plt.show()\n",
    "\n",
    "# E[T] и Var[T] при H0 и H1 vs n\n",
    "plt.figure()\n",
    "plt.plot(df_knn[\"n\"], df_knn[\"mean_H0\"], marker=\"o\", label=\"E[T] H0\")\n",
    "plt.plot(df_knn[\"n\"], df_knn[\"mean_H1\"], marker=\"x\", label=\"E[T] H1\")\n",
    "plt.xlabel(\"n\")\n",
    "plt.ylabel(\"Значение\")\n",
    "plt.title(f\"k-NN (k={fixed_k}): среднее T vs n\")\n",
    "plt.legend()\n",
    "plt.grid(True)\n",
    "plt.savefig(os.path.join(pics_dir, \"knn_mean_vs_n.png\"), dpi=300)\n",
    "plt.show()"
   ]
  },
  {
   "cell_type": "code",
   "execution_count": 11,
   "metadata": {},
   "outputs": [
    {
     "data": {
      "application/vnd.jupyter.widget-view+json": {
       "model_id": "bb689c1251c84cbe8a0e705109b20a1c",
       "version_major": 2,
       "version_minor": 0
      },
      "text/plain": [
       "Sample sizes:   0%|          | 0/4 [00:00<?, ?it/s]"
      ]
     },
     "metadata": {},
     "output_type": "display_data"
    },
    {
     "data": {
      "application/vnd.jupyter.widget-view+json": {
       "model_id": "d0395b81b95d49e2bdc2cdd6385b2da3",
       "version_major": 2,
       "version_minor": 0
      },
      "text/plain": [
       "Params for n=50:   0%|          | 0/1 [00:00<?, ?it/s]"
      ]
     },
     "metadata": {},
     "output_type": "display_data"
    },
    {
     "data": {
      "application/vnd.jupyter.widget-view+json": {
       "model_id": "afe3f806255c4aaf93c13e88a92d509e",
       "version_major": 2,
       "version_minor": 0
      },
      "text/plain": [
       "Params for n=100:   0%|          | 0/1 [00:00<?, ?it/s]"
      ]
     },
     "metadata": {},
     "output_type": "display_data"
    },
    {
     "data": {
      "application/vnd.jupyter.widget-view+json": {
       "model_id": "6f7c66cfb1c748c3b0b182e9c26daac6",
       "version_major": 2,
       "version_minor": 0
      },
      "text/plain": [
       "Params for n=200:   0%|          | 0/1 [00:00<?, ?it/s]"
      ]
     },
     "metadata": {},
     "output_type": "display_data"
    },
    {
     "data": {
      "application/vnd.jupyter.widget-view+json": {
       "model_id": "3ae28f2af7dc4d579ee26568d669ce8c",
       "version_major": 2,
       "version_minor": 0
      },
      "text/plain": [
       "Params for n=500:   0%|          | 0/1 [00:00<?, ?it/s]"
      ]
     },
     "metadata": {},
     "output_type": "display_data"
    },
    {
     "data": {
      "text/html": [
       "<div>\n",
       "<style scoped>\n",
       "    .dataframe tbody tr th:only-of-type {\n",
       "        vertical-align: middle;\n",
       "    }\n",
       "\n",
       "    .dataframe tbody tr th {\n",
       "        vertical-align: top;\n",
       "    }\n",
       "\n",
       "    .dataframe thead th {\n",
       "        text-align: right;\n",
       "    }\n",
       "</style>\n",
       "<table border=\"1\" class=\"dataframe\">\n",
       "  <thead>\n",
       "    <tr style=\"text-align: right;\">\n",
       "      <th></th>\n",
       "      <th>n</th>\n",
       "      <th>param</th>\n",
       "      <th>mean_H0</th>\n",
       "      <th>var_H0</th>\n",
       "      <th>mean_H1</th>\n",
       "      <th>var_H1</th>\n",
       "      <th>threshold</th>\n",
       "      <th>power</th>\n",
       "    </tr>\n",
       "  </thead>\n",
       "  <tbody>\n",
       "    <tr>\n",
       "      <th>0</th>\n",
       "      <td>50</td>\n",
       "      <td>3</td>\n",
       "      <td>45.232</td>\n",
       "      <td>3.862176</td>\n",
       "      <td>44.878</td>\n",
       "      <td>4.119116</td>\n",
       "      <td>48.0</td>\n",
       "      <td>0.026</td>\n",
       "    </tr>\n",
       "    <tr>\n",
       "      <th>1</th>\n",
       "      <td>100</td>\n",
       "      <td>3</td>\n",
       "      <td>90.070</td>\n",
       "      <td>8.381100</td>\n",
       "      <td>88.724</td>\n",
       "      <td>8.803824</td>\n",
       "      <td>94.0</td>\n",
       "      <td>0.022</td>\n",
       "    </tr>\n",
       "    <tr>\n",
       "      <th>2</th>\n",
       "      <td>200</td>\n",
       "      <td>3</td>\n",
       "      <td>178.164</td>\n",
       "      <td>17.505104</td>\n",
       "      <td>176.190</td>\n",
       "      <td>19.317900</td>\n",
       "      <td>184.0</td>\n",
       "      <td>0.026</td>\n",
       "    </tr>\n",
       "    <tr>\n",
       "      <th>3</th>\n",
       "      <td>500</td>\n",
       "      <td>3</td>\n",
       "      <td>443.270</td>\n",
       "      <td>47.029100</td>\n",
       "      <td>437.298</td>\n",
       "      <td>55.689196</td>\n",
       "      <td>454.0</td>\n",
       "      <td>0.010</td>\n",
       "    </tr>\n",
       "  </tbody>\n",
       "</table>\n",
       "</div>"
      ],
      "text/plain": [
       "     n  param  mean_H0     var_H0  mean_H1     var_H1  threshold  power\n",
       "0   50      3   45.232   3.862176   44.878   4.119116       48.0  0.026\n",
       "1  100      3   90.070   8.381100   88.724   8.803824       94.0  0.022\n",
       "2  200      3  178.164  17.505104  176.190  19.317900      184.0  0.026\n",
       "3  500      3  443.270  47.029100  437.298  55.689196      454.0  0.010"
      ]
     },
     "execution_count": 11,
     "metadata": {},
     "output_type": "execute_result"
    }
   ],
   "source": [
    "# 11) Основной эксперимент для ε-графа с фиксированным d\n",
    "df_dist = run_experiment(\n",
    "    dist0,\n",
    "    dist1,\n",
    "    sample_sizes=sample_sizes,\n",
    "    params=[fixed_d],\n",
    "    feature_name=dist_feat,\n",
    "    n_sim=n_sim,\n",
    "    graph_type=\"distance\",\n",
    "    alpha=alpha,\n",
    "    seed=seed,\n",
    ")\n",
    "df_dist.to_csv(os.path.join(csv_dir, \"results_dist.csv\"), index=False)\n",
    "df_dist"
   ]
  },
  {
   "cell_type": "code",
   "execution_count": 12,
   "metadata": {},
   "outputs": [
    {
     "data": {
      "image/png": "[encoded data removed]",
      "text/plain": [
       "<Figure size 640x480 with 1 Axes>"
      ]
     },
     "metadata": {},
     "output_type": "display_data"
    }
   ],
   "source": [
    "# 12) Графики для ε-графа\n",
    "plt.figure()\n",
    "plt.plot(df_dist[\"n\"], df_dist[\"power\"], marker=\"o\")\n",
    "plt.xlabel(\"n\")\n",
    "plt.ylabel(\"Power\")\n",
    "plt.title(f\"ε-граф (d={fixed_d}): мощность vs размер выборки\")\n",
    "plt.grid(True)\n",
    "plt.savefig(os.path.join(pics_dir, \"dist_power_vs_n.png\"), dpi=300)\n",
    "plt.show()"
   ]
  },
  {
   "cell_type": "code",
   "execution_count": 13,
   "metadata": {},
   "outputs": [
    {
     "data": {
      "image/png": "[encoded data removed]",
      "text/plain": [
       "<Figure size 640x480 with 1 Axes>"
      ]
     },
     "metadata": {},
     "output_type": "display_data"
    },
    {
     "data": {
      "image/png": "[encoded data removed]",
      "text/plain": [
       "<Figure size 640x480 with 1 Axes>"
      ]
     },
     "metadata": {},
     "output_type": "display_data"
    }
   ],
   "source": [
    "plt.figure()\n",
    "plt.plot(df_beta_knn[\"beta\"], df_beta_knn[\"E0\"], marker=\"o\", label=\"E[T] H0 (k-NN)\")\n",
    "plt.plot(df_beta_knn[\"beta\"], df_beta_knn[\"E1\"], marker=\"x\", label=\"E[T] H1 (k-NN)\")\n",
    "plt.xlabel(\"β₀\")\n",
    "plt.ylabel(\"Значение T\")\n",
    "plt.title(f\"k-NN (k={fixed_k}): E[T] при разных β₀\")\n",
    "plt.legend()\n",
    "plt.grid(True)\n",
    "plt.savefig(os.path.join(pics_dir, \"knn_mean_vs_beta.png\"), dpi=300)\n",
    "plt.show()\n",
    "\n",
    "plt.figure()\n",
    "plt.plot(df_beta_dist[\"beta\"], df_beta_dist[\"E0\"], marker=\"o\", label=\"E[T] H0 (ε-граф)\")\n",
    "plt.plot(df_beta_dist[\"beta\"], df_beta_dist[\"E1\"], marker=\"x\", label=\"E[T] H1 (ε-граф)\")\n",
    "plt.xlabel(\"β₀\")\n",
    "plt.ylabel(\"Значение T\")\n",
    "plt.title(f\"ε-граф (d={fixed_d}): E[T] при разных β₀\")\n",
    "plt.legend()\n",
    "plt.grid(True)\n",
    "plt.savefig(os.path.join(pics_dir, \"dist_mean_vs_beta.png\"), dpi=300)\n",
    "plt.show()"
   ]
  },
  {
   "cell_type": "code",
   "execution_count": null,
   "metadata": {},
   "outputs": [],
   "source": []
  }
 ],
 "metadata": {
  "colab": {
   "provenance": []
  },
  "kaggle": {
   "accelerator": "none",
   "dataSources": [],
   "dockerImageVersionId": 31012,
   "isGpuEnabled": false,
   "isInternetEnabled": true,
   "language": "python",
   "sourceType": "notebook"
  },
  "kernelspec": {
   "display_name": "Python 3 (ipykernel)",
   "language": "python",
   "name": "python3"
  },
  "language_info": {
   "codemirror_mode": {
    "name": "ipython",
    "version": 3
   },
   "file_extension": ".py",
   "mimetype": "text/x-python",
   "name": "python",
   "nbconvert_exporter": "python",
   "pygments_lexer": "ipython3",
   "version": "3.11.11"
  }
 },
 "nbformat": 4,
 "nbformat_minor": 4
}
